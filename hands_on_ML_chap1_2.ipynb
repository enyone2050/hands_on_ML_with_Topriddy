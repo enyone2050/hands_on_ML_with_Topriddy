{
 "cells": [
  {
   "cell_type": "markdown",
   "metadata": {},
   "source": [
    "# Hands-on with Machine learning practice"
   ]
  },
  {
   "cell_type": "markdown",
   "metadata": {},
   "source": [
    "## Problem $1$: Examine the data from Craiglist and be able to predict car price"
   ]
  },
  {
   "cell_type": "markdown",
   "metadata": {},
   "source": [
    "1. Import Necessary libraries"
   ]
  },
  {
   "cell_type": "code",
   "execution_count": 21,
   "metadata": {},
   "outputs": [],
   "source": [
    "import os #For os methods such as file paths etc\n",
    "import urllib\n",
    "import pandas as pd\n",
    "import numpy as np\n",
    "import matplotlib.pyplot as plt\n",
    "%matplotlib inline\n",
    "import kaggle as kaggle"
   ]
  },
  {
   "cell_type": "markdown",
   "metadata": {},
   "source": [
    "2. Create functions to automatically download and load the required data"
   ]
  },
  {
   "cell_type": "code",
   "execution_count": 34,
   "metadata": {},
   "outputs": [
    {
     "name": "stdout",
     "output_type": "stream",
     "text": [
      "Warning: Your Kaggle API key is readable by other users on this system! To fix this, you can run 'chmod 600 /Users/ibrahim/.kaggle/kaggle.json'\n",
      "Downloading 62920%2F1254870%2Fcompressed%2Fvehicles.csv.zip to datasets/car_prices\n",
      " 99%|███████████████████████████████████████▋| 285M/287M [00:16<00:00, 24.8MB/s]\n",
      "100%|████████████████████████████████████████| 287M/287M [00:16<00:00, 17.9MB/s]\n"
     ]
    }
   ],
   "source": [
    "PROJECT_ROOT_DIR = \".\"\n",
    "IMAGES_PATH = os.path.join(PROJECT_ROOT_DIR, \"images\")\n",
    "os.makedirs(IMAGES_PATH, exist_ok=True)\n",
    "    \n",
    "!kaggle datasets download austinreese/craigslist-carstrucks-data -f vehicles.csv -p datasets/car_prices --unzip\n",
    "#def kaggle_fetch_data(data_owner, dataset_name, file_name, data_store_path):\n",
    " #   if not os.path.isdir(data_store_path):\n",
    "  #      os.makedirs(data_store_path)\n",
    "    #urllib.request.urlretrieve(data_url, data_store_path)\n",
    "   # !kaggle datasets download data_owner/dataset_name -f file_name -p data_store_path\n",
    "\n",
    "def load_csv_data(csv_data_path,data_name):\n",
    "    csv_path = os.path.join(csv_data_path,data_name)\n",
    "    return pd.read_csv(csv_path)\n",
    "\n",
    "def save_fig(fig_id, tight_layout = True, fig_extension = \"png\", resolution=300):\n",
    "    path = os.path.join(IMAGES_PATH, fig_id + \".\" + fig_extension)\n",
    "    print(\"Saving figure\", fig_id)\n",
    "    \n",
    "    if tight_layout:\n",
    "        plt.tight_layout()\n",
    "    plt.savefig(path, format = fig_extension, dpi=resolution)"
   ]
  },
  {
   "cell_type": "code",
   "execution_count": 35,
   "metadata": {},
   "outputs": [],
   "source": [
    "# Load the data\n",
    "datapath = os.path.join(\"datasets\",\"car_prices\")\n",
    "file_name = \"vehicles.csv\"\n",
    "vehicle_data = load_csv_data(datapath,file_name)"
   ]
  },
  {
   "cell_type": "code",
   "execution_count": null,
   "metadata": {},
   "outputs": [],
   "source": [
    "#Examine data\n",
    "vehicle_data.info()"
   ]
  },
  {
   "cell_type": "code",
   "execution_count": null,
   "metadata": {},
   "outputs": [],
   "source": []
  }
 ],
 "metadata": {
  "kernelspec": {
   "display_name": "Python 3",
   "language": "python",
   "name": "python3"
  },
  "language_info": {
   "codemirror_mode": {
    "name": "ipython",
    "version": 3
   },
   "file_extension": ".py",
   "mimetype": "text/x-python",
   "name": "python",
   "nbconvert_exporter": "python",
   "pygments_lexer": "ipython3",
   "version": "3.7.9"
  }
 },
 "nbformat": 4,
 "nbformat_minor": 4
}
